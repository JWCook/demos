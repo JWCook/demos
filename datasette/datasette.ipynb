{
 "cells": [
  {
   "cell_type": "code",
   "execution_count": null,
   "id": "afd9746b-b0a8-407d-9f24-3c63538880d3",
   "metadata": {
    "tags": []
   },
   "outputs": [],
   "source": [
    "!pip install -U datasette"
   ]
  },
  {
   "cell_type": "markdown",
   "id": "2365252e-d2d4-44b9-bf9a-7962275b5bd9",
   "metadata": {},
   "source": [
    "# SQLite intro"
   ]
  },
  {
   "cell_type": "code",
   "execution_count": null,
   "id": "a5f64e62-040a-45c3-a70a-35ecb3d807f8",
   "metadata": {
    "tags": []
   },
   "outputs": [],
   "source": [
    "import sqlite3\n",
    "from pathlib import Path\n",
    "\n",
    "import requests\n",
    "\n",
    "pwd = Path('.').absolute() / 'datasette-demo'\n",
    "db = sqlite3.connect(pwd / 'content.db')\n",
    "\n",
    "print(db.execute('select sqlite_version()').fetchall())\n",
    "\n",
    "for row in db.execute('SELECT * FROM plugin_repos LIMIT 10'):\n",
    "    print(row)\n",
    "\n",
    "db.row_factory = sqlite3.Row\n",
    "\n",
    "\n",
    "def q(stmt):\n",
    "    return [dict(row) for row in db.execute(stmt).fetchall()]\n",
    "\n",
    "\n",
    "# List tables\n",
    "q(\"SELECT name FROM sqlite_master where type='table'\")"
   ]
  },
  {
   "cell_type": "code",
   "execution_count": null,
   "id": "aac2c026-eb37-4551-bca5-542b9736888e",
   "metadata": {
    "tags": []
   },
   "outputs": [],
   "source": [
    "db.execute(\"\"\"\n",
    "create table peps (\n",
    "  id integer primary key,\n",
    "  title text,\n",
    "  author text,\n",
    "  status text,\n",
    "  type text,\n",
    "  created text,\n",
    "  body text\n",
    ");\n",
    "\"\"\")\n",
    "\n",
    "\n",
    "def parse_pep(s):\n",
    "    intro, body = s.split('\\n\\n', 1)\n",
    "    pep = {}\n",
    "    current_key = None\n",
    "    current_value = None\n",
    "    for line in intro.split('\\n'):\n",
    "        # If the line starts with whitespace, it's a continuation of the previous value\n",
    "        if line.startswith(' ') or line.startswith('\\t'):\n",
    "            if current_key is not None:\n",
    "                current_value += ' ' + line.strip()\n",
    "                pep[current_key] = current_value.strip()\n",
    "        else:\n",
    "            # Split the line into key and value\n",
    "            parts = line.split(': ', 1)\n",
    "            if len(parts) == 2:\n",
    "                key, value = parts\n",
    "                # Update the current key and value\n",
    "                current_key = key\n",
    "                current_value = value\n",
    "                # Add the key-value pair to the pep dictionary\n",
    "                pep[current_key] = current_value.strip()\n",
    "    pep['Body'] = body.strip()\n",
    "    return pep"
   ]
  },
  {
   "cell_type": "code",
   "execution_count": null,
   "id": "e76fe0d3-e8a9-4d9f-8e8d-9dfda70406d7",
   "metadata": {
    "tags": []
   },
   "outputs": [],
   "source": [
    "zen = requests.get('https://raw.githubusercontent.com/python/peps/main/pep-0020.txt').text\n",
    "pep = parse_pep(zen)\n",
    "\n",
    "db.execute(\n",
    "    'insert into peps (id, title, author, status, type, created, body)'\n",
    "    '  values (:PEP, :Title, :Author, :Status, :Type, :Created, :Body)',\n",
    "    pep,\n",
    ")\n",
    "\n",
    "q('SELECT * FROM peps')"
   ]
  },
  {
   "cell_type": "markdown",
   "id": "0e41ec41-5414-4edf-9194-65345f80cfc4",
   "metadata": {},
   "source": [
    "# Datasette intro"
   ]
  },
  {
   "cell_type": "code",
   "execution_count": 28,
   "id": "9a08e160-329f-42da-a235-15140ef05db7",
   "metadata": {
    "tags": []
   },
   "outputs": [],
   "source": []
  }
 ],
 "metadata": {
  "kernelspec": {
   "display_name": "Python 3 (ipykernel)",
   "language": "python",
   "name": "python3"
  },
  "language_info": {
   "codemirror_mode": {
    "name": "ipython",
    "version": 3
   },
   "file_extension": ".py",
   "mimetype": "text/x-python",
   "name": "python",
   "nbconvert_exporter": "python",
   "pygments_lexer": "ipython3",
   "version": "3.10.10"
  }
 },
 "nbformat": 4,
 "nbformat_minor": 5
}
