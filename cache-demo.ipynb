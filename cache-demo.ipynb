{
 "cells": [
  {
   "cell_type": "markdown",
   "id": "b6e996d2-bb5d-4d4d-885c-b9a626b05197",
   "metadata": {},
   "source": [
    "# asdf"
   ]
  },
  {
   "cell_type": "code",
   "execution_count": null,
   "id": "3dd8607a-c1bb-4a03-9b0a-1b9de582d051",
   "metadata": {
    "jupyter": {
     "source_hidden": true
    },
    "tags": []
   },
   "outputs": [],
   "source": [
    "# Demo dependencies and helper functions\n",
    "!pip install -U requests requests-cache rich pygithub pyinaturalist\n",
    "\n",
    "from typing import Mapping\n",
    "\n",
    "from rich import pretty, print\n",
    "\n",
    "\n",
    "def pprint(obj):\n",
    "    \"\"\"A bit of extra formatting when printing a dictionary of headers\"\"\"\n",
    "    if isinstance(obj, Mapping):\n",
    "        for k in sorted(obj):\n",
    "            print(f'[bold blue]{k}[/bold blue]: {obj[k]}')\n",
    "    else:\n",
    "        pretty.pprint(obj)"
   ]
  },
  {
   "cell_type": "code",
   "execution_count": null,
   "id": "6547a950-2a26-46e3-965c-d8102b09bf39",
   "metadata": {},
   "outputs": [],
   "source": [
    "from requests_cache import CachedSession\n",
    "\n",
    "session = CachedSession(cache_control=True)\n",
    "# session.cache.clear()\n",
    "\n",
    "r = session.get(\n",
    "    'https://api.inaturalist.org/v1/observations',\n",
    "    params={'taxon': 'Asclepias incarnata', 'place_id': 24},\n",
    ")"
   ]
  },
  {
   "cell_type": "code",
   "execution_count": null,
   "id": "8b3b8ff0-7edb-4b61-803c-e457f149536a",
   "metadata": {},
   "outputs": [],
   "source": [
    "pprint(r.headers)\n",
    "r"
   ]
  },
  {
   "cell_type": "code",
   "execution_count": null,
   "id": "8ca174cf-1c25-46aa-8e71-1fe92d905e29",
   "metadata": {},
   "outputs": [],
   "source": [
    "session.cache.db_path"
   ]
  },
  {
   "cell_type": "markdown",
   "id": "914e193d-a682-4f7a-b737-be07bde71c1f",
   "metadata": {},
   "source": [
    "# GitHub API Example"
   ]
  },
  {
   "cell_type": "code",
   "execution_count": null,
   "id": "92ea73a3-7c8c-4e5b-8c30-b818d4ff9904",
   "metadata": {},
   "outputs": [],
   "source": [
    "r = session.get('https://api.github.com/repos/requests-cache/requests-cache')\n",
    "pprint(r.headers)"
   ]
  },
  {
   "cell_type": "code",
   "execution_count": null,
   "id": "32b93a55-1c41-4cc3-81da-3e281de037e8",
   "metadata": {},
   "outputs": [],
   "source": []
  },
  {
   "cell_type": "markdown",
   "id": "81ad1309-cb7b-4406-9f28-f4682a9a2a2c",
   "metadata": {},
   "source": [
    "# Cache contents\n",
    "Examples of checking out `session.cache` contents"
   ]
  },
  {
   "cell_type": "code",
   "execution_count": null,
   "id": "589c265c-327f-48ba-9a05-a67905f541ee",
   "metadata": {},
   "outputs": [],
   "source": [
    "# Check if a specific URL is cached\n",
    "session.cache.contains(url='https://httpbin.org/get?foo=bar')"
   ]
  },
  {
   "cell_type": "code",
   "execution_count": null,
   "id": "907372b4-56ed-467b-b4e3-427e02fe9c04",
   "metadata": {},
   "outputs": [],
   "source": [
    "r = session.get('https://httpbin.org/get?foo=bar')\n",
    "session.cache.contains(url='https://httpbin.org/get?foo=bar')"
   ]
  },
  {
   "cell_type": "code",
   "execution_count": 121,
   "id": "216e1399-8447-44f4-8dca-3082986f4d5b",
   "metadata": {},
   "outputs": [
    {
     "data": {
      "text/html": [
       "<pre style=\"white-space:pre;overflow-x:auto;line-height:normal;font-family:Menlo,'DejaVu Sans Mono',consolas,'Courier New',monospace\">\n",
       "<span style=\"font-weight: bold\">[</span>\n",
       "    <span style=\"color: #008000; text-decoration-color: #008000\">'https://api.inaturalist.org/v1/observations?place_id=24&amp;taxon=Asclepias+incarnata'</span>,\n",
       "    <span style=\"color: #008000; text-decoration-color: #008000\">'https://httpbin.org/get?foo=bar'</span>\n",
       "<span style=\"font-weight: bold\">]</span>\n",
       "</pre>\n"
      ],
      "text/plain": [
       "\n",
       "\u001b[1m[\u001b[0m\n",
       "    \u001b[32m'https://api.inaturalist.org/v1/observations?\u001b[0m\u001b[32mplace_id\u001b[0m\u001b[32m=\u001b[0m\u001b[32m24\u001b[0m\u001b[32m&\u001b[0m\u001b[32mtaxon\u001b[0m\u001b[32m=\u001b[0m\u001b[32mAsclepias\u001b[0m\u001b[32m+incarnata'\u001b[0m,\n",
       "    \u001b[32m'https://httpbin.org/get?\u001b[0m\u001b[32mfoo\u001b[0m\u001b[32m=\u001b[0m\u001b[32mbar\u001b[0m\u001b[32m'\u001b[0m\n",
       "\u001b[1m]\u001b[0m\n"
      ]
     },
     "metadata": {},
     "output_type": "display_data"
    }
   ],
   "source": [
    "# See all URLs in the cache\n",
    "session.cache.urls()"
   ]
  },
  {
   "cell_type": "code",
   "execution_count": 122,
   "id": "c9a087c2-aa91-40bd-9de9-1a7197931045",
   "metadata": {},
   "outputs": [
    {
     "data": {
      "text/html": [
       "<pre style=\"white-space:pre;overflow-x:auto;line-height:normal;font-family:Menlo,'DejaVu Sans Mono',consolas,'Courier New',monospace\"><span style=\"color: #800080; text-decoration-color: #800080; font-weight: bold\">CachedResponse</span><span style=\"font-weight: bold\">(</span>\n",
       "<span style=\"color: #7fbf7f; text-decoration-color: #7fbf7f\">│   </span><span style=\"color: #808000; text-decoration-color: #808000\">_content</span>=<span style=\"color: #008000; text-decoration-color: #008000\">b'{\\n  \"args\": {\\n    \"foo\": \"bar\"\\n  }, \\n  \"headers\": {\\n    \"Accept\": \"*/*\", \\n    \"Accept-Encoding\": \"gzip, deflate, br\", \\n    \"Host\": \"httpbin.org\", \\n    \"User-Agent\": \"python-requests/2.26.0\", \\n    \"X-Amzn-Trace-Id\": \"Root=1-642a4030-2f649d08304572f739b019f9\"\\n  }, \\n  \"origin\": \"173.21.123.220\", \\n  \"url\": \"https://httpbin.org/get?foo=bar\"\\n}\\n'</span>,\n",
       "<span style=\"color: #7fbf7f; text-decoration-color: #7fbf7f\">│   </span><span style=\"color: #808000; text-decoration-color: #808000\">created_at</span>=<span style=\"color: #008000; text-decoration-color: #008000\">'2023-04-03 02:55:44.883595'</span>,\n",
       "<span style=\"color: #7fbf7f; text-decoration-color: #7fbf7f\">│   </span><span style=\"color: #808000; text-decoration-color: #808000\">elapsed</span>=<span style=\"color: #800080; text-decoration-color: #800080; font-weight: bold\">datetime</span><span style=\"color: #800080; text-decoration-color: #800080; font-weight: bold\">.timedelta</span><span style=\"font-weight: bold\">(</span><span style=\"color: #808000; text-decoration-color: #808000\">microseconds</span>=<span style=\"color: #008080; text-decoration-color: #008080; font-weight: bold\">481798</span><span style=\"font-weight: bold\">)</span>,\n",
       "<span style=\"color: #7fbf7f; text-decoration-color: #7fbf7f\">│   </span><span style=\"color: #808000; text-decoration-color: #808000\">encoding</span>=<span style=\"color: #008000; text-decoration-color: #008000\">'utf-8'</span>,\n",
       "<span style=\"color: #7fbf7f; text-decoration-color: #7fbf7f\">│   </span><span style=\"color: #808000; text-decoration-color: #808000\">headers</span>=<span style=\"font-weight: bold\">{</span><span style=\"color: #008000; text-decoration-color: #008000\">'Date'</span>: <span style=\"color: #008000; text-decoration-color: #008000\">'Mon, 03 Apr 2023 02:55:44 GMT'</span>, <span style=\"color: #008000; text-decoration-color: #008000\">'Content-Type'</span>: <span style=\"color: #008000; text-decoration-color: #008000\">'application/json'</span>, <span style=\"color: #008000; text-decoration-color: #008000\">'Content-Length'</span>: <span style=\"color: #008000; text-decoration-color: #008000\">'340'</span>, <span style=\"color: #008000; text-decoration-color: #008000\">'Connection'</span>: <span style=\"color: #008000; text-decoration-color: #008000\">'keep-alive'</span>, <span style=\"color: #008000; text-decoration-color: #008000\">'Server'</span>: <span style=\"color: #008000; text-decoration-color: #008000\">'gunicorn/19.9.0'</span>, <span style=\"color: #008000; text-decoration-color: #008000\">'Access-Control-Allow-Origin'</span>: <span style=\"color: #008000; text-decoration-color: #008000\">'*'</span>, <span style=\"color: #008000; text-decoration-color: #008000\">'Access-Control-Allow-Credentials'</span>: <span style=\"color: #008000; text-decoration-color: #008000\">'true'</span><span style=\"font-weight: bold\">}</span>,\n",
       "<span style=\"color: #7fbf7f; text-decoration-color: #7fbf7f\">│   </span><span style=\"color: #808000; text-decoration-color: #808000\">reason</span>=<span style=\"color: #008000; text-decoration-color: #008000\">'OK'</span>,\n",
       "<span style=\"color: #7fbf7f; text-decoration-color: #7fbf7f\">│   </span><span style=\"color: #808000; text-decoration-color: #808000\">request</span>=<span style=\"color: #800080; text-decoration-color: #800080; font-weight: bold\">CachedRequest</span><span style=\"font-weight: bold\">(</span>\n",
       "<span style=\"color: #7fbf7f; text-decoration-color: #7fbf7f\">│   │   </span><span style=\"color: #808000; text-decoration-color: #808000\">body</span>=<span style=\"color: #008000; text-decoration-color: #008000\">b''</span>,\n",
       "<span style=\"color: #7fbf7f; text-decoration-color: #7fbf7f\">│   │   </span><span style=\"color: #808000; text-decoration-color: #808000\">headers</span>=<span style=\"font-weight: bold\">{</span><span style=\"color: #008000; text-decoration-color: #008000\">'Accept'</span>: <span style=\"color: #008000; text-decoration-color: #008000\">'*/*'</span>, <span style=\"color: #008000; text-decoration-color: #008000\">'Accept-Encoding'</span>: <span style=\"color: #008000; text-decoration-color: #008000\">'br, deflate, gzip'</span>, <span style=\"color: #008000; text-decoration-color: #008000\">'Connection'</span>: <span style=\"color: #008000; text-decoration-color: #008000\">'keep-alive'</span>, <span style=\"color: #008000; text-decoration-color: #008000\">'User-Agent'</span>: <span style=\"color: #008000; text-decoration-color: #008000\">'python-requests/2.26.0'</span><span style=\"font-weight: bold\">}</span>,\n",
       "<span style=\"color: #7fbf7f; text-decoration-color: #7fbf7f\">│   │   </span><span style=\"color: #808000; text-decoration-color: #808000\">method</span>=<span style=\"color: #008000; text-decoration-color: #008000\">'GET'</span>,\n",
       "<span style=\"color: #7fbf7f; text-decoration-color: #7fbf7f\">│   │   </span><span style=\"color: #808000; text-decoration-color: #808000\">url</span>=<span style=\"color: #008000; text-decoration-color: #008000\">'https://httpbin.org/get?foo=bar'</span>\n",
       "<span style=\"color: #7fbf7f; text-decoration-color: #7fbf7f\">│   </span><span style=\"font-weight: bold\">)</span>,\n",
       "<span style=\"color: #7fbf7f; text-decoration-color: #7fbf7f\">│   </span><span style=\"color: #808000; text-decoration-color: #808000\">status_code</span>=<span style=\"color: #008080; text-decoration-color: #008080; font-weight: bold\">200</span>,\n",
       "<span style=\"color: #7fbf7f; text-decoration-color: #7fbf7f\">│   </span><span style=\"color: #808000; text-decoration-color: #808000\">url</span>=<span style=\"color: #008000; text-decoration-color: #008000\">'https://httpbin.org/get?foo=bar'</span>\n",
       "<span style=\"font-weight: bold\">)</span>\n",
       "</pre>\n"
      ],
      "text/plain": [
       "\u001b[1;35mCachedResponse\u001b[0m\u001b[1m(\u001b[0m\n",
       "\u001b[2;32m│   \u001b[0m\u001b[33m_content\u001b[0m=\u001b[32mb\u001b[0m\u001b[32m'\u001b[0m\u001b[32m{\u001b[0m\u001b[32m\\n  \"args\": \u001b[0m\u001b[32m{\u001b[0m\u001b[32m\\n    \"foo\": \"bar\"\\n  \u001b[0m\u001b[32m}\u001b[0m\u001b[32m, \\n  \"headers\": \u001b[0m\u001b[32m{\u001b[0m\u001b[32m\\n    \"Accept\": \"*/*\", \\n    \"Accept-Encoding\": \"gzip, deflate, br\", \\n    \"Host\": \"httpbin.org\", \\n    \"User-Agent\": \"python-requests/2.26.0\", \\n    \"X-Amzn-Trace-Id\": \"\u001b[0m\u001b[32mRoot\u001b[0m\u001b[32m=\u001b[0m\u001b[32m1\u001b[0m\u001b[32m-642a4030-2f649d08304572f739b019f9\"\\n  \u001b[0m\u001b[32m}\u001b[0m\u001b[32m, \\n  \"origin\": \"173.21.123.220\", \\n  \"url\": \"https://httpbin.org/get?\u001b[0m\u001b[32mfoo\u001b[0m\u001b[32m=\u001b[0m\u001b[32mbar\"\u001b[0m\u001b[32m\\n\u001b[0m\u001b[32m}\u001b[0m\u001b[32m\\n'\u001b[0m,\n",
       "\u001b[2;32m│   \u001b[0m\u001b[33mcreated_at\u001b[0m=\u001b[32m'2023-04-03 02:55:44.883595'\u001b[0m,\n",
       "\u001b[2;32m│   \u001b[0m\u001b[33melapsed\u001b[0m=\u001b[1;35mdatetime\u001b[0m\u001b[1;35m.timedelta\u001b[0m\u001b[1m(\u001b[0m\u001b[33mmicroseconds\u001b[0m=\u001b[1;36m481798\u001b[0m\u001b[1m)\u001b[0m,\n",
       "\u001b[2;32m│   \u001b[0m\u001b[33mencoding\u001b[0m=\u001b[32m'utf-8'\u001b[0m,\n",
       "\u001b[2;32m│   \u001b[0m\u001b[33mheaders\u001b[0m=\u001b[1m{\u001b[0m\u001b[32m'Date'\u001b[0m: \u001b[32m'Mon, 03 Apr 2023 02:55:44 GMT'\u001b[0m, \u001b[32m'Content-Type'\u001b[0m: \u001b[32m'application/json'\u001b[0m, \u001b[32m'Content-Length'\u001b[0m: \u001b[32m'340'\u001b[0m, \u001b[32m'Connection'\u001b[0m: \u001b[32m'keep-alive'\u001b[0m, \u001b[32m'Server'\u001b[0m: \u001b[32m'gunicorn/19.9.0'\u001b[0m, \u001b[32m'Access-Control-Allow-Origin'\u001b[0m: \u001b[32m'*'\u001b[0m, \u001b[32m'Access-Control-Allow-Credentials'\u001b[0m: \u001b[32m'true'\u001b[0m\u001b[1m}\u001b[0m,\n",
       "\u001b[2;32m│   \u001b[0m\u001b[33mreason\u001b[0m=\u001b[32m'OK'\u001b[0m,\n",
       "\u001b[2;32m│   \u001b[0m\u001b[33mrequest\u001b[0m=\u001b[1;35mCachedRequest\u001b[0m\u001b[1m(\u001b[0m\n",
       "\u001b[2;32m│   │   \u001b[0m\u001b[33mbody\u001b[0m=\u001b[32mb\u001b[0m\u001b[32m''\u001b[0m,\n",
       "\u001b[2;32m│   │   \u001b[0m\u001b[33mheaders\u001b[0m=\u001b[1m{\u001b[0m\u001b[32m'Accept'\u001b[0m: \u001b[32m'*/*'\u001b[0m, \u001b[32m'Accept-Encoding'\u001b[0m: \u001b[32m'br, deflate, gzip'\u001b[0m, \u001b[32m'Connection'\u001b[0m: \u001b[32m'keep-alive'\u001b[0m, \u001b[32m'User-Agent'\u001b[0m: \u001b[32m'python-requests/2.26.0'\u001b[0m\u001b[1m}\u001b[0m,\n",
       "\u001b[2;32m│   │   \u001b[0m\u001b[33mmethod\u001b[0m=\u001b[32m'GET'\u001b[0m,\n",
       "\u001b[2;32m│   │   \u001b[0m\u001b[33murl\u001b[0m=\u001b[32m'https://httpbin.org/get?\u001b[0m\u001b[32mfoo\u001b[0m\u001b[32m=\u001b[0m\u001b[32mbar\u001b[0m\u001b[32m'\u001b[0m\n",
       "\u001b[2;32m│   \u001b[0m\u001b[1m)\u001b[0m,\n",
       "\u001b[2;32m│   \u001b[0m\u001b[33mstatus_code\u001b[0m=\u001b[1;36m200\u001b[0m,\n",
       "\u001b[2;32m│   \u001b[0m\u001b[33murl\u001b[0m=\u001b[32m'https://httpbin.org/get?\u001b[0m\u001b[32mfoo\u001b[0m\u001b[32m=\u001b[0m\u001b[32mbar\u001b[0m\u001b[32m'\u001b[0m\n",
       "\u001b[1m)\u001b[0m\n"
      ]
     },
     "metadata": {},
     "output_type": "display_data"
    }
   ],
   "source": [
    "# Get unexpired responses\n",
    "for response in session.cache.filter(expired=False):\n",
    "    pprint(response)"
   ]
  },
  {
   "cell_type": "code",
   "execution_count": null,
   "id": "9728c23a-dd3f-4c82-ae93-e68e8f228bd0",
   "metadata": {},
   "outputs": [],
   "source": [
    "pprint(session.cache.responses)"
   ]
  },
  {
   "cell_type": "code",
   "execution_count": null,
   "id": "0c0fc298-51ab-4b7f-82ef-57ddf695289a",
   "metadata": {},
   "outputs": [],
   "source": [
    "# The main response cache is a dict-like object\n",
    "for k, v in session.cache.responses.items():\n",
    "    print(f'Cache key: {k}\\n{v}')"
   ]
  },
  {
   "cell_type": "markdown",
   "id": "117647d3-ad96-4086-bea9-6c6352cc711b",
   "metadata": {},
   "source": [
    "# asdf"
   ]
  },
  {
   "cell_type": "code",
   "execution_count": null,
   "id": "40e4fe77-6d20-46f1-be6c-80d766e05245",
   "metadata": {},
   "outputs": [],
   "source": []
  }
 ],
 "metadata": {
  "kernelspec": {
   "display_name": "Python 3 (ipykernel)",
   "language": "python",
   "name": "python3"
  },
  "language_info": {
   "codemirror_mode": {
    "name": "ipython",
    "version": 3
   },
   "file_extension": ".py",
   "mimetype": "text/x-python",
   "name": "python",
   "nbconvert_exporter": "python",
   "pygments_lexer": "ipython3",
   "version": "3.9.6"
  }
 },
 "nbformat": 4,
 "nbformat_minor": 5
}
