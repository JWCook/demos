{
 "cells": [
  {
   "cell_type": "markdown",
   "id": "b6e996d2-bb5d-4d4d-885c-b9a626b05197",
   "metadata": {},
   "source": [
    "# Intro to HTTP caching in python"
   ]
  },
  {
   "cell_type": "code",
   "execution_count": null,
   "id": "3dd8607a-c1bb-4a03-9b0a-1b9de582d051",
   "metadata": {
    "tags": []
   },
   "outputs": [],
   "source": [
    "# Demo dependencies and helper functions\n",
    "!pip install -U requests requests-cache rich pygithub pyinaturalist pymongo\n",
    "\n",
    "from typing import Mapping\n",
    "from rich import pretty, print\n",
    "\n",
    "\n",
    "def pprint(obj):\n",
    "    \"\"\"A bit of extra formatting when printing a dictionary of headers\"\"\"\n",
    "    if isinstance(obj, Mapping):\n",
    "        for k in sorted(obj):\n",
    "            print(f'[bold cyan]{k}[/bold cyan]: {obj[k]}')\n",
    "    else:\n",
    "        pretty.pprint(obj)"
   ]
  },
  {
   "cell_type": "markdown",
   "id": "6e528049-c5ff-4d9c-a024-7c3c6c53fb26",
   "metadata": {
    "tags": []
   },
   "source": [
    "# Caching basics\n",
    "Basic example with [functools.lru_cache](https://docs.python.org/3/library/functools.html#functools.lru_cache):"
   ]
  },
  {
   "cell_type": "code",
   "execution_count": null,
   "id": "0824eb87-72fa-48e5-8705-896d9acde026",
   "metadata": {
    "tags": []
   },
   "outputs": [],
   "source": [
    "from functools import lru_cache\n",
    "from datetime import datetime, timedelta\n",
    "import requests\n",
    "\n",
    "\n",
    "@lru_cache(maxsize=32)\n",
    "def get_pep(num):\n",
    "    \"\"\"Retrieve text of a Python Enhancement Proposal\"\"\"\n",
    "    url = f'https://peps.python.org/pep-{num:0>4}/'\n",
    "    return requests.get(url).text\n",
    "\n",
    "\n",
    "for n in [8, 290, 308, 320, 8, 218, 320, 279, 289, 320, 9991, 8]:\n",
    "    pep = get_pep(n)\n",
    "    print(f'PEP {n:<4} text length: {len(pep)}')\n",
    "\n",
    "\n",
    "get_pep.cache_info()"
   ]
  },
  {
   "cell_type": "markdown",
   "id": "a06025bc-ed67-407d-a19f-3c586da0d24a",
   "metadata": {},
   "source": [
    "Limitations:\n",
    "* Cache is stored only in memory and not persistent\n",
    "* Only works for static resources\n",
    "* No way to specify if/when to refresh cached pages\n",
    "* requests are matched based only on function arguments"
   ]
  },
  {
   "cell_type": "markdown",
   "id": "d985b65e-5128-42b6-80e0-dd7b597800c3",
   "metadata": {
    "tags": []
   },
   "source": [
    "# HTTP Caching basics"
   ]
  },
  {
   "cell_type": "markdown",
   "id": "d5ca165a-1f40-4253-84c6-bb8859892540",
   "metadata": {
    "tags": []
   },
   "source": [
    "![](images/browser-cache-basic.png)\n",
    "\n",
    "## Browser cache layers\n",
    "![](images/browser-cache-types.png)\n",
    "\n",
    "## Types of caches\n",
    "* Server-side\n",
    "* Public (proxy/edge/CDN)\n",
    "* Private (browser/other client)\n",
    "\n",
    "## Reference\n",
    "Main specs (wall of text warning):\n",
    "* [RFC 2616](https://datatracker.ietf.org/doc/html/rfc2616#section-13)\n",
    "* [RFC 7234](https://datatracker.ietf.org/doc/html/rfc7234)\n",
    "\n",
    "Extensions:\n",
    "* [RFC 5861](https://datatracker.ietf.org/doc/html/rfc5861)\n",
    "* [RFC 8246](https://datatracker.ietf.org/doc/html/rfc8246)\n",
    "\n",
    "More readable summaries:\n",
    "* [MDN: Cache-Control](https://developer.mozilla.org/en-US/docs/Web/HTTP/Headers/Cache-Control#up-to-date_contents_always)\n",
    "* [MDN: ETag](https://developer.mozilla.org/en-US/docs/Web/HTTP/Headers/ETag) and [If-None-Match](https://developer.mozilla.org/en-US/docs/Web/HTTP/Headers/If-None-Match)"
   ]
  },
  {
   "cell_type": "markdown",
   "id": "5ff20adc-b115-48eb-9ca2-9ebd249c046c",
   "metadata": {
    "tags": []
   },
   "source": [
    "# requests-cache\n",
    "The [requests-cache](https://github.com/requests-cache/requests-cache) library gives you an easy drop-in replacement for [requests.Session](https://requests.readthedocs.io/en/latest/user/advanced/#session-objects):"
   ]
  },
  {
   "cell_type": "code",
   "execution_count": null,
   "id": "2f844998-0aea-4b15-b757-c421939c687f",
   "metadata": {
    "tags": []
   },
   "outputs": [],
   "source": [
    "from requests import Session\n",
    "from requests_cache import CachedSession\n",
    "\n",
    "\n",
    "# Instead of this:\n",
    "session = Session()\n",
    "r = session.get('https://httpbin.org/delay/2')\n",
    "\n",
    "# Do this:\n",
    "session = CachedSession()\n",
    "r = session.get('https://httpbin.org/delay/2')"
   ]
  },
  {
   "cell_type": "markdown",
   "id": "92a04425-db10-4fb7-8b30-297a470cfd02",
   "metadata": {},
   "source": [
    "## Benchmark\n",
    "After being cached, the only I/O operation for a given request is reading from SQLite.\n",
    "\n",
    "See [this example](https://requests-cache.readthedocs.io/en/stable/examples.html#cache-speed-test) for a more complete benchmark script with options"
   ]
  },
  {
   "cell_type": "code",
   "execution_count": null,
   "id": "6e658262-2823-4efb-b208-12bb0dcb363e",
   "metadata": {
    "tags": []
   },
   "outputs": [],
   "source": [
    "from time import perf_counter\n",
    "\n",
    "\n",
    "start = perf_counter()\n",
    "\n",
    "for i in range(100):\n",
    "    r = session.get('https://httpbin.org/delay/2')\n",
    "    \n",
    "elapsed = (perf_counter() - start) * 1000\n",
    "print(f'Elapsed: {elapsed:.5}ms (avg {elapsed/100:.4}ms per request)')"
   ]
  },
  {
   "cell_type": "markdown",
   "id": "42541ee9-bb6e-4df8-baee-19157f6dcfc0",
   "metadata": {
    "tags": []
   },
   "source": [
    "# Expiration strategies\n",
    "* No expiration (default)\n",
    "* User-specified expiration\n",
    "* Header-based expiration (`Cache-Control`, etc.)"
   ]
  },
  {
   "cell_type": "code",
   "execution_count": null,
   "id": "63ab024d-f4d6-4c5a-b93e-0af3c83abcbd",
   "metadata": {
    "tags": []
   },
   "outputs": [],
   "source": [
    "from datetime import timedelta\n",
    "from requests_cache import DO_NOT_CACHE, NEVER_EXPIRE, EXPIRE_IMMEDIATELY, CachedSession\n",
    "\n",
    "# Specify a simple expiration value in seconds\n",
    "session = CachedSession(expire_after=60)\n",
    "\n",
    "# To specify a unit of time other than seconds, use a timedelta\n",
    "session = CachedSession(expire_after=timedelta(days=30))\n",
    "\n",
    "# Update an existing session to store new responses indefinitely\n",
    "session.settings.expire_after = NEVER_EXPIRE\n",
    "\n",
    "# Disable caching by default, unless enabled by other settings\n",
    "session = CachedSession(expire_after=DO_NOT_CACHE)\n",
    "\n",
    "# Cache the response but mark it as stale; will be revalidated on next use\n",
    "session = CachedSession(expire_after=EXPIRE_IMMEDIATELY)\n",
    "\n",
    "# Set expiration with URL glob patterns\n",
    "urls_expire_after = {\n",
    "    '*.site_1.com': 30,\n",
    "    'site_2.com/resource_1': 60 * 2,\n",
    "    'site_2.com/resource_2': 60 * 60 * 24,\n",
    "    'site_2.com/resource_*': 60 * 60,\n",
    "    'site_2.com/static': NEVER_EXPIRE,\n",
    "}\n",
    "session = CachedSession(urls_expire_after=urls_expire_after)"
   ]
  },
  {
   "cell_type": "markdown",
   "id": "67c6ab13-8bc5-4740-bb03-21af55662bbc",
   "metadata": {
    "tags": []
   },
   "source": [
    "# Use case: iNaturalist API"
   ]
  },
  {
   "cell_type": "markdown",
   "id": "36a1120a-d31a-4c16-9bd2-1c4477a2bc45",
   "metadata": {
    "tags": []
   },
   "source": [
    "* [iNaturalist](https://www.inaturalist.org) is a community science platform for posting and identifying observations of living things.\n",
    "* It's also useful as a biodiversity data source, which can be accessed via a [REST API](https://api.inaturalist.org/v1/docs).\n",
    "* The API is rate-limited and a bit slow, so caching is extremely useful here\n",
    "\n",
    "Example observation search for Swamp Milkweed in Iowa (web UI): https://www.inaturalist.org/observations?taxon_id=125381&place_id=24\n",
    "\n",
    "Equivalent API request:"
   ]
  },
  {
   "cell_type": "code",
   "execution_count": null,
   "id": "6547a950-2a26-46e3-965c-d8102b09bf39",
   "metadata": {
    "tags": []
   },
   "outputs": [],
   "source": [
    "session = CachedSession(cache_control=True)\n",
    "# session.cache.clear()\n",
    "\n",
    "r = session.get(\n",
    "    'https://api.inaturalist.org/v1/observations',\n",
    "    params={'taxon': 'Asclepias incarnata', 'place_id': 24},\n",
    ")"
   ]
  },
  {
   "cell_type": "code",
   "execution_count": null,
   "id": "8b3b8ff0-7edb-4b61-803c-e457f149536a",
   "metadata": {
    "tags": []
   },
   "outputs": [],
   "source": [
    "pprint(r)\n",
    "pprint(r.headers)\n",
    "# print(r.json())"
   ]
  },
  {
   "cell_type": "markdown",
   "id": "1bcdaae6-0c8b-4e87-92ac-b92f40abae5a",
   "metadata": {},
   "source": [
    "TL;DR: I made a client library with caching by default: https://github.com/pyinat/pyinaturalist"
   ]
  },
  {
   "cell_type": "markdown",
   "id": "c9e1f45b-ecdb-4fd8-a081-553d247c8569",
   "metadata": {
    "tags": []
   },
   "source": [
    "# GitHub API example"
   ]
  },
  {
   "cell_type": "markdown",
   "id": "914e193d-a682-4f7a-b737-be07bde71c1f",
   "metadata": {
    "tags": []
   },
   "source": [
    "[GitHub REST API docs](https://docs.github.com/en/rest)\n",
    "\n",
    "* **Bad news:** It has [rate limiting](https://docs.github.com/en/rest/rate-limit), which is especially restrictive for unauthenticated requests\n",
    "* **Good news:** It supports conditional requests, which don't count against the rate limit!\n",
    "\n",
    "## Direct REST API usage"
   ]
  },
  {
   "cell_type": "code",
   "execution_count": null,
   "id": "92ea73a3-7c8c-4e5b-8c30-b818d4ff9904",
   "metadata": {
    "tags": []
   },
   "outputs": [],
   "source": [
    "r = session.get('https://api.github.com/repos/requests-cache/requests-cache')\n",
    "pprint(r.headers)\n",
    "print(r.json())"
   ]
  },
  {
   "cell_type": "code",
   "execution_count": null,
   "id": "7a54c461-fb74-4a1e-8523-cf416dc746f5",
   "metadata": {
    "tags": []
   },
   "outputs": [],
   "source": [
    "# Expiration and current rate limit usage:\n",
    "print(r.expires)\n",
    "print(r.headers['X-RateLimit-Used'])"
   ]
  },
  {
   "cell_type": "code",
   "execution_count": null,
   "id": "f5728810-ee51-470a-aab5-fed031b7be99",
   "metadata": {
    "tags": []
   },
   "outputs": [],
   "source": [
    "# Manually override expiration time to trigger revalidation\n",
    "expired_dt = datetime.utcnow() - timedelta(seconds=1)\n",
    "session.cache.save_response(r, expires=expired_dt)\n",
    "\n",
    "# A conditional request will be sent, which doesn't count against the rate limit\n",
    "r = session.get('https://api.github.com/repos/requests-cache/requests-cache')\n",
    "print(f'From cache: {r.from_cache}')\n",
    "print(f'Revalidated: {r.revalidated}')\n",
    "print(f'Expires: {r.expires}')\n",
    "print(f\"Rate limit used: {r.headers['X-RateLimit-Used']}\")"
   ]
  },
  {
   "cell_type": "markdown",
   "id": "faeece9f-cd96-4981-867f-687fd70f7122",
   "metadata": {},
   "source": [
    "## PyGithub usage\n",
    "* [PyGithub](https://pygithub.readthedocs.io) is a full API client for GitHub, much nicer to use than plain API requests\n",
    "* It uses `requests`, but its internal session isn't easily accessible\n",
    "* In this case, we can use [install_cache()](https://requests-cache.readthedocs.io/en/stable/modules/requests_cache.patcher.html#requests_cache.patcher.install_cache) to  globally patch requests\n",
    "    * ⚠️ See [caveats and warnings here](https://requests-cache.readthedocs.io/en/stable/user_guide/general.html#patching-limitations-potential-issues)!\n",
    "    \n",
    "See [full example script](https://requests-cache.readthedocs.io/en/stable/examples.html#pygithub)"
   ]
  },
  {
   "cell_type": "code",
   "execution_count": null,
   "id": "e4e27122-4413-41d6-96d3-f9296037b80e",
   "metadata": {
    "tags": []
   },
   "outputs": [],
   "source": [
    "# Basic usage\n",
    "from github import Github\n",
    "from requests_cache import install_cache\n",
    "\n",
    "install_cache(cache_control=True)\n",
    "\n",
    "gh = Github()\n",
    "user = gh.get_user('jwcook')\n",
    "? user"
   ]
  },
  {
   "cell_type": "markdown",
   "id": "2d79f641-5b1c-4338-bc31-a5372765d0cc",
   "metadata": {
    "tags": []
   },
   "source": [
    "# Cache contents"
   ]
  },
  {
   "cell_type": "markdown",
   "id": "81ad1309-cb7b-4406-9f28-f4682a9a2a2c",
   "metadata": {
    "tags": []
   },
   "source": [
    "Examples of getting more info about the cache\n",
    "* `session.cache` is a [BaseCache](https://requests-cache.readthedocs.io/en/stable/modules/requests_cache.backends.base.html#requests_cache.backends.base.BaseCache) instance with higher-level cache operations\n",
    "    * One subclass per backend; in this case, it's [SQLiteCache](https://requests-cache.readthedocs.io/en/stable/modules/requests_cache.backends.sqlite.html#requests_cache.backends.sqlite.SQLiteCache)\n",
    "* `session.cache.responses` is a dict-like interface that handles lower-level storage operations\n",
    "* `session.cache.redirects` is a secondary cache used to optimize redirect chains"
   ]
  },
  {
   "cell_type": "code",
   "execution_count": null,
   "id": "589c265c-327f-48ba-9a05-a67905f541ee",
   "metadata": {},
   "outputs": [],
   "source": [
    "# Check if a specific URL is cached\n",
    "session.cache.contains(url='https://httpbin.org/get?foo=bar')"
   ]
  },
  {
   "cell_type": "code",
   "execution_count": null,
   "id": "907372b4-56ed-467b-b4e3-427e02fe9c04",
   "metadata": {},
   "outputs": [],
   "source": [
    "r = session.get('https://httpbin.org/get?foo=bar')\n",
    "session.cache.contains(url='https://httpbin.org/get?foo=bar')"
   ]
  },
  {
   "cell_type": "code",
   "execution_count": null,
   "id": "216e1399-8447-44f4-8dca-3082986f4d5b",
   "metadata": {},
   "outputs": [],
   "source": [
    "# See all URLs in the cache\n",
    "session.cache.urls()"
   ]
  },
  {
   "cell_type": "code",
   "execution_count": null,
   "id": "c9a087c2-aa91-40bd-9de9-1a7197931045",
   "metadata": {},
   "outputs": [],
   "source": [
    "# Get unexpired responses\n",
    "for response in session.cache.filter(expired=False):\n",
    "    pprint(response)"
   ]
  },
  {
   "cell_type": "code",
   "execution_count": null,
   "id": "9728c23a-dd3f-4c82-ae93-e68e8f228bd0",
   "metadata": {},
   "outputs": [],
   "source": [
    "pprint(session.cache.responses)"
   ]
  },
  {
   "cell_type": "code",
   "execution_count": null,
   "id": "0c0fc298-51ab-4b7f-82ef-57ddf695289a",
   "metadata": {},
   "outputs": [],
   "source": [
    "# The main response cache is a dict-like object\n",
    "for k, v in session.cache.responses.items():\n",
    "    print(f'Cache key: {k}\\n{v}')"
   ]
  },
  {
   "cell_type": "markdown",
   "id": "00bb5798-d60c-4af9-943d-3b60a51c30d6",
   "metadata": {
    "tags": []
   },
   "source": [
    "# Backends"
   ]
  },
  {
   "cell_type": "markdown",
   "id": "117647d3-ad96-4086-bea9-6c6352cc711b",
   "metadata": {},
   "source": [
    "[Supported cache backends](https://requests-cache.readthedocs.io/en/stable/user_guide/backends.html):\n",
    "* SQLite\n",
    "* Redis\n",
    "* MongoDB\n",
    "    * Optionally with GridFS\n",
    "* DynamoDB\n",
    "* Filesystem\n",
    "* Memory (basic non-persistent cache)"
   ]
  },
  {
   "cell_type": "markdown",
   "id": "1ca5324d-38d4-4b1d-9695-c347c78d149b",
   "metadata": {},
   "source": [
    "## MongoDB example\n",
    "See details on [MongoDB cache backend](https://requests-cache.readthedocs.io/en/stable/user_guide/backends/mongodb.html)"
   ]
  },
  {
   "cell_type": "code",
   "execution_count": null,
   "id": "9ea83149-29d6-4f40-9b73-d781ca309bcb",
   "metadata": {
    "tags": []
   },
   "outputs": [],
   "source": [
    "from requests_cache import CachedSession, MongoCache\n",
    "\n",
    "# Connecting to another Docker container; default is localhost:27017\n",
    "backend = MongoCache(host='mongo', port=27017)\n",
    "session = CachedSession(backend=backend)\n",
    "\n",
    "r = session.get('https://httpbin.org/json')\n",
    "r = session.get('https://api.github.com/repos/requests-cache/requests-cache')\n",
    "print(r.json())"
   ]
  }
 ],
 "metadata": {
  "kernelspec": {
   "display_name": "Python 3 (ipykernel)",
   "language": "python",
   "name": "python3"
  },
  "language_info": {
   "codemirror_mode": {
    "name": "ipython",
    "version": 3
   },
   "file_extension": ".py",
   "mimetype": "text/x-python",
   "name": "python",
   "nbconvert_exporter": "python",
   "pygments_lexer": "ipython3",
   "version": "3.10.10"
  }
 },
 "nbformat": 4,
 "nbformat_minor": 5
}
